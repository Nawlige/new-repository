{
 "cells": [
  {
   "cell_type": "markdown",
   "metadata": {},
   "source": [
    "##### Introduction/Business Problem \n",
    "******************"
   ]
  },
  {
   "cell_type": "markdown",
   "metadata": {},
   "source": [
    "An upstart Information Technology company has grown rapidly and is looking to move into an office space that will serve as it's Headquarters. The company would like to identify metropolitan areas in North Carolina, Virgina, Georgia, and South Carolina as possible location candidates. As they are an upstart company, they would like to convey a modern and trendy business environment, as a possible draw for potential candidates for hire. The ideal location would be comparable to and offer similar talent pools, economic demographics and surrounding amenities as San Jose, California which is home to the largest tech hub in the United States.\n",
    "\n",
    "**Which metropolitan areas in North Carolina, Virgina, Georgia and South Carolina are most comparable to San Jose California?**"
   ]
  },
  {
   "cell_type": "code",
   "execution_count": null,
   "metadata": {},
   "outputs": [],
   "source": []
  }
 ],
 "metadata": {
  "kernelspec": {
   "display_name": "Python 3",
   "language": "python",
   "name": "python3"
  },
  "language_info": {
   "codemirror_mode": {
    "name": "ipython",
    "version": 3
   },
   "file_extension": ".py",
   "mimetype": "text/x-python",
   "name": "python",
   "nbconvert_exporter": "python",
   "pygments_lexer": "ipython3",
   "version": "3.6.8"
  }
 },
 "nbformat": 4,
 "nbformat_minor": 2
}
